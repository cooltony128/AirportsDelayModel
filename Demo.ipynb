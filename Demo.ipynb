{
 "cells": [
  {
   "cell_type": "markdown",
   "metadata": {},
   "source": [
    "## 1.  Demo for GraphFlow"
   ]
  },
  {
   "cell_type": "code",
   "execution_count": null,
   "metadata": {},
   "outputs": [],
   "source": [
    "from graphflow import GraphFlow"
   ]
  },
  {
   "cell_type": "code",
   "execution_count": null,
   "metadata": {},
   "outputs": [],
   "source": [
    "#Demo 1 generate a GraphFlow object use import_GF\n",
    "gf = GraphFlow.import_GF()\n",
    "\n",
    "import pandas as pd\n",
    "pd.set_option('display.max_columns', 50)\n",
    "\n",
    "gf.describe()\n",
    "gf.draw_network_attr(with_pos = True)"
   ]
  },
  {
   "cell_type": "code",
   "execution_count": null,
   "metadata": {},
   "outputs": [],
   "source": [
    "# Demo 2 one can use sub_graph_flow to generate sub_graph_flow\n",
    "# bug 03/11/07,11/4/07,03/09/08,11/02/08 can not be between start_time and end_time\n",
    "sub_nodes = ['HNL','LAS','LAX','OGG']\n",
    "sub_gf=gf.sub_graph_flow(start_time = '2007-02-01 01:00:00',end_time = '2007-03-01 01:00:00',sub_nodes = sub_nodes )"
   ]
  },
  {
   "cell_type": "code",
   "execution_count": null,
   "metadata": {},
   "outputs": [],
   "source": [
    "sub_gf.describe()\n",
    "sub_gf.draw_network_attr(with_pos = False)"
   ]
  },
  {
   "cell_type": "code",
   "execution_count": null,
   "metadata": {},
   "outputs": [],
   "source": [
    "# Demo 3 if sub_nodes is none,edges is None,then choose all_nodes,. \n",
    "# bug 03/11/07,11/4/07,03/09/08,11/02/08 can not be between start_time and end_time\n",
    "sub_gf=gf.sub_graph_flow('2007-02-01 01:00:00','2007-03-01 01:00:00')\n",
    "sub_gf.describe()\n",
    "sub_gf.draw_network_attr(with_pos = True)"
   ]
  },
  {
   "cell_type": "code",
   "execution_count": null,
   "metadata": {
    "scrolled": true
   },
   "outputs": [],
   "source": [
    "# Demo 4 if sub_nodes is none,edges aregiven, then generate a subGraphFLow with edges given. ~ 3 min\n",
    "# bug 03/11/07,11/4/07,03/09/08,11/02/08 can not be between start_time and end_time\n",
    "sub_gf = gf.sub_graph_flow('2007-02-01 01:00:00','2007-03-01 01:00:00',\n",
    "                           edges =  (set(gf.G.out_edges('LAX'))|set(gf.G.in_edges('LAX'))))\n",
    "sub_gf.describe()\n",
    "sub_gf.draw_network_attr(with_pos = True)"
   ]
  },
  {
   "cell_type": "code",
   "execution_count": null,
   "metadata": {},
   "outputs": [],
   "source": [
    "# demo for model_evaluation\n",
    "\n",
    "from graphflow import test_index_gen,model_evaluation\n",
    "import numpy as np\n",
    "\n",
    "test_date_index,test_airport_index = test_index_gen()\n",
    "\n",
    "# sample input \n",
    "pred_data = np.random.random((len(test_date_index),len(test_airport_index)))\n",
    "\n",
    "# evluate the prediction\n",
    "model_evaluation(pred_data, test_date_index, test_airport_index)"
   ]
  },
  {
   "cell_type": "markdown",
   "metadata": {},
   "source": [
    "## 2 Demo for StaticModel"
   ]
  },
  {
   "cell_type": "code",
   "execution_count": 1,
   "metadata": {},
   "outputs": [
    {
     "name": "stderr",
     "output_type": "stream",
     "text": [
      "Using TensorFlow backend.\n"
     ]
    }
   ],
   "source": [
    "from graphflow import StaticModel\n",
    "from graphflow import GraphFlow"
   ]
  },
  {
   "cell_type": "code",
   "execution_count": 2,
   "metadata": {},
   "outputs": [],
   "source": [
    "# generate a graphflow object as input of StaticModel\n",
    "\n",
    "gf = GraphFlow.import_GF()\n",
    "# so far edges has to be symetric otherwise will raise error\n",
    "sub_gf = gf.sub_graph_flow(edges = [('LAX','ATL'),('ATL','LAX')])"
   ]
  },
  {
   "cell_type": "code",
   "execution_count": 3,
   "metadata": {},
   "outputs": [
    {
     "name": "stdout",
     "output_type": "stream",
     "text": [
      "dt : 1:00:00\n",
      "start time: 2007-01-01 00:00:00-08:00\n",
      "end time: 2008-12-30 00:00:00-08:00\n",
      "All data frame has shape: (17497, 2)\n",
      "head of RealArrTotalFlights: \n"
     ]
    },
    {
     "data": {
      "text/html": [
       "<div>\n",
       "<style scoped>\n",
       "    .dataframe tbody tr th:only-of-type {\n",
       "        vertical-align: middle;\n",
       "    }\n",
       "\n",
       "    .dataframe tbody tr th {\n",
       "        vertical-align: top;\n",
       "    }\n",
       "\n",
       "    .dataframe thead th {\n",
       "        text-align: right;\n",
       "    }\n",
       "</style>\n",
       "<table border=\"1\" class=\"dataframe\">\n",
       "  <thead>\n",
       "    <tr style=\"text-align: right;\">\n",
       "      <th></th>\n",
       "      <th>ATL</th>\n",
       "      <th>LAX</th>\n",
       "    </tr>\n",
       "  </thead>\n",
       "  <tbody>\n",
       "    <tr>\n",
       "      <td>2007-01-01 00:00:00-08:00</td>\n",
       "      <td>0</td>\n",
       "      <td>1</td>\n",
       "    </tr>\n",
       "    <tr>\n",
       "      <td>2007-01-01 01:00:00-08:00</td>\n",
       "      <td>0</td>\n",
       "      <td>0</td>\n",
       "    </tr>\n",
       "    <tr>\n",
       "      <td>2007-01-01 02:00:00-08:00</td>\n",
       "      <td>0</td>\n",
       "      <td>0</td>\n",
       "    </tr>\n",
       "  </tbody>\n",
       "</table>\n",
       "</div>"
      ],
      "text/plain": [
       "                           ATL  LAX\n",
       "2007-01-01 00:00:00-08:00    0    1\n",
       "2007-01-01 01:00:00-08:00    0    0\n",
       "2007-01-01 02:00:00-08:00    0    0"
      ]
     },
     "metadata": {},
     "output_type": "display_data"
    },
    {
     "name": "stdout",
     "output_type": "stream",
     "text": [
      "head of pre_data: \n"
     ]
    },
    {
     "data": {
      "text/html": [
       "<div>\n",
       "<style scoped>\n",
       "    .dataframe tbody tr th:only-of-type {\n",
       "        vertical-align: middle;\n",
       "    }\n",
       "\n",
       "    .dataframe tbody tr th {\n",
       "        vertical-align: top;\n",
       "    }\n",
       "\n",
       "    .dataframe thead th {\n",
       "        text-align: right;\n",
       "    }\n",
       "</style>\n",
       "<table border=\"1\" class=\"dataframe\">\n",
       "  <thead>\n",
       "    <tr style=\"text-align: right;\">\n",
       "      <th></th>\n",
       "      <th>AbsCRSDepTime</th>\n",
       "      <th>AbsCRSArrTime</th>\n",
       "      <th>ArrDelay</th>\n",
       "      <th>DepDelay</th>\n",
       "      <th>Origin</th>\n",
       "      <th>Dest</th>\n",
       "      <th>ActualElapsedTime</th>\n",
       "      <th>FlightNum</th>\n",
       "      <th>TailNum</th>\n",
       "      <th>UniqueCarrier</th>\n",
       "      <th>...</th>\n",
       "      <th>DepTime</th>\n",
       "      <th>CRSDepTime</th>\n",
       "      <th>ArrTime</th>\n",
       "      <th>CRSArrTime</th>\n",
       "      <th>CRSElapsedTime</th>\n",
       "      <th>Cancelled</th>\n",
       "      <th>CancellationCode</th>\n",
       "      <th>AbsDepTime</th>\n",
       "      <th>AbsArrTime</th>\n",
       "      <th>PreAbsArrTime</th>\n",
       "    </tr>\n",
       "    <tr>\n",
       "      <th>index</th>\n",
       "      <th></th>\n",
       "      <th></th>\n",
       "      <th></th>\n",
       "      <th></th>\n",
       "      <th></th>\n",
       "      <th></th>\n",
       "      <th></th>\n",
       "      <th></th>\n",
       "      <th></th>\n",
       "      <th></th>\n",
       "      <th></th>\n",
       "      <th></th>\n",
       "      <th></th>\n",
       "      <th></th>\n",
       "      <th></th>\n",
       "      <th></th>\n",
       "      <th></th>\n",
       "      <th></th>\n",
       "      <th></th>\n",
       "      <th></th>\n",
       "      <th></th>\n",
       "    </tr>\n",
       "  </thead>\n",
       "  <tbody>\n",
       "    <tr>\n",
       "      <td>310655</td>\n",
       "      <td>2007-01-18 04:45:00-08:00</td>\n",
       "      <td>2007-01-18 09:45:00-08:00</td>\n",
       "      <td>2.0</td>\n",
       "      <td>3.0</td>\n",
       "      <td>ATL</td>\n",
       "      <td>LAX</td>\n",
       "      <td>299.0</td>\n",
       "      <td>110.0</td>\n",
       "      <td>N124DE</td>\n",
       "      <td>DL</td>\n",
       "      <td>...</td>\n",
       "      <td>748.0</td>\n",
       "      <td>745.0</td>\n",
       "      <td>947.0</td>\n",
       "      <td>945.0</td>\n",
       "      <td>300.0</td>\n",
       "      <td>0.0</td>\n",
       "      <td>NaN</td>\n",
       "      <td>2007-01-18 04:48:00-08:00</td>\n",
       "      <td>2007-01-18 09:47:00-08:00</td>\n",
       "      <td>2007-01-17 02:46:00-08:00</td>\n",
       "    </tr>\n",
       "    <tr>\n",
       "      <td>310657</td>\n",
       "      <td>2007-01-18 13:40:00-08:00</td>\n",
       "      <td>2007-01-18 17:53:00-08:00</td>\n",
       "      <td>75.0</td>\n",
       "      <td>96.0</td>\n",
       "      <td>LAX</td>\n",
       "      <td>ATL</td>\n",
       "      <td>232.0</td>\n",
       "      <td>152.0</td>\n",
       "      <td>N862DA</td>\n",
       "      <td>DL</td>\n",
       "      <td>...</td>\n",
       "      <td>1516.0</td>\n",
       "      <td>1340.0</td>\n",
       "      <td>2208.0</td>\n",
       "      <td>2053.0</td>\n",
       "      <td>253.0</td>\n",
       "      <td>0.0</td>\n",
       "      <td>NaN</td>\n",
       "      <td>2007-01-18 15:16:00-08:00</td>\n",
       "      <td>2007-01-18 19:08:00-08:00</td>\n",
       "      <td>2007-01-18 14:00:00-08:00</td>\n",
       "    </tr>\n",
       "    <tr>\n",
       "      <td>310658</td>\n",
       "      <td>2007-01-18 07:30:00-08:00</td>\n",
       "      <td>2007-01-18 12:30:00-08:00</td>\n",
       "      <td>90.0</td>\n",
       "      <td>25.0</td>\n",
       "      <td>ATL</td>\n",
       "      <td>LAX</td>\n",
       "      <td>365.0</td>\n",
       "      <td>189.0</td>\n",
       "      <td>N862DA</td>\n",
       "      <td>DL</td>\n",
       "      <td>...</td>\n",
       "      <td>1055.0</td>\n",
       "      <td>1030.0</td>\n",
       "      <td>1400.0</td>\n",
       "      <td>1230.0</td>\n",
       "      <td>300.0</td>\n",
       "      <td>0.0</td>\n",
       "      <td>NaN</td>\n",
       "      <td>2007-01-18 07:55:00-08:00</td>\n",
       "      <td>2007-01-18 14:00:00-08:00</td>\n",
       "      <td>2007-01-16 17:54:00-08:00</td>\n",
       "    </tr>\n",
       "  </tbody>\n",
       "</table>\n",
       "<p>3 rows × 34 columns</p>\n",
       "</div>"
      ],
      "text/plain": [
       "                    AbsCRSDepTime              AbsCRSArrTime  ArrDelay  \\\n",
       "index                                                                    \n",
       "310655  2007-01-18 04:45:00-08:00  2007-01-18 09:45:00-08:00       2.0   \n",
       "310657  2007-01-18 13:40:00-08:00  2007-01-18 17:53:00-08:00      75.0   \n",
       "310658  2007-01-18 07:30:00-08:00  2007-01-18 12:30:00-08:00      90.0   \n",
       "\n",
       "        DepDelay Origin Dest  ActualElapsedTime  FlightNum TailNum  \\\n",
       "index                                                                \n",
       "310655       3.0    ATL  LAX              299.0      110.0  N124DE   \n",
       "310657      96.0    LAX  ATL              232.0      152.0  N862DA   \n",
       "310658      25.0    ATL  LAX              365.0      189.0  N862DA   \n",
       "\n",
       "       UniqueCarrier  ...  DepTime  CRSDepTime  ArrTime  CRSArrTime  \\\n",
       "index                 ...                                             \n",
       "310655            DL  ...    748.0       745.0    947.0       945.0   \n",
       "310657            DL  ...   1516.0      1340.0   2208.0      2053.0   \n",
       "310658            DL  ...   1055.0      1030.0   1400.0      1230.0   \n",
       "\n",
       "        CRSElapsedTime  Cancelled  CancellationCode  \\\n",
       "index                                                 \n",
       "310655           300.0        0.0               NaN   \n",
       "310657           253.0        0.0               NaN   \n",
       "310658           300.0        0.0               NaN   \n",
       "\n",
       "                       AbsDepTime                 AbsArrTime  \\\n",
       "index                                                          \n",
       "310655  2007-01-18 04:48:00-08:00  2007-01-18 09:47:00-08:00   \n",
       "310657  2007-01-18 15:16:00-08:00  2007-01-18 19:08:00-08:00   \n",
       "310658  2007-01-18 07:55:00-08:00  2007-01-18 14:00:00-08:00   \n",
       "\n",
       "                    PreAbsArrTime  \n",
       "index                              \n",
       "310655  2007-01-17 02:46:00-08:00  \n",
       "310657  2007-01-18 14:00:00-08:00  \n",
       "310658  2007-01-16 17:54:00-08:00  \n",
       "\n",
       "[3 rows x 34 columns]"
      ]
     },
     "metadata": {},
     "output_type": "display_data"
    },
    {
     "data": {
      "text/plain": [
       "'time sig of fold 1: '"
      ]
     },
     "metadata": {},
     "output_type": "display_data"
    },
    {
     "data": {
      "text/plain": [
       "['month',\n",
       " 'day',\n",
       " 'hour',\n",
       " 'minute',\n",
       " 'dayofweek',\n",
       " 'quarter',\n",
       " 'is_month_start',\n",
       " 'is_month_end',\n",
       " 'is_quarter_start',\n",
       " 'is_quarter_end']"
      ]
     },
     "metadata": {},
     "output_type": "display_data"
    },
    {
     "data": {
      "text/plain": [
       "'airport sig of fold 2: '"
      ]
     },
     "metadata": {},
     "output_type": "display_data"
    },
    {
     "data": {
      "text/plain": [
       "['weight', 'Distance']"
      ]
     },
     "metadata": {},
     "output_type": "display_data"
    },
    {
     "data": {
      "text/plain": [
       "'delay_reasons : '"
      ]
     },
     "metadata": {},
     "output_type": "display_data"
    },
    {
     "data": {
      "text/plain": [
       "['CarrierDelay',\n",
       " 'WeatherDelay',\n",
       " 'NASDelay',\n",
       " 'SecurityDelay',\n",
       " 'LateAircraftDelay',\n",
       " 'DepDelay',\n",
       " 'ArrDelay']"
      ]
     },
     "metadata": {},
     "output_type": "display_data"
    },
    {
     "data": {
      "text/plain": [
       "'layout for sigs: '"
      ]
     },
     "metadata": {},
     "output_type": "display_data"
    },
    {
     "data": {
      "text/plain": [
       "[10, 10, 1, 1, 1, 2, 7, 2]"
      ]
     },
     "metadata": {},
     "output_type": "display_data"
    },
    {
     "data": {
      "text/plain": [
       "'models considered: '"
      ]
     },
     "metadata": {},
     "output_type": "display_data"
    },
    {
     "data": {
      "text/plain": [
       "NN_model    <bound method StaticModel.NN_model of <class '...\n",
       "LR_model    <bound method StaticModel.LR_model of <class '...\n",
       "DT_model    <function StaticModel.DT_model at 0x0000015FA1...\n",
       "dtype: object"
      ]
     },
     "metadata": {},
     "output_type": "display_data"
    },
    {
     "data": {
      "text/plain": [
       "'sig combinition considered: '"
      ]
     },
     "metadata": {},
     "output_type": "display_data"
    },
    {
     "data": {
      "text/plain": [
       "129    [True, False, False, False, False, False, Fals...\n",
       "192    [False, False, False, False, False, False, Tru...\n",
       "dtype: object"
      ]
     },
     "metadata": {},
     "output_type": "display_data"
    }
   ],
   "source": [
    "# initialize a StaticModel\n",
    "sm = StaticModel(sub_gf)\n",
    "sm.describe()"
   ]
  },
  {
   "cell_type": "code",
   "execution_count": 4,
   "metadata": {},
   "outputs": [
    {
     "name": "stdout",
     "output_type": "stream",
     "text": [
      "total time:  1.9922332763671875\n"
     ]
    },
    {
     "data": {
      "text/html": [
       "<div>\n",
       "<style scoped>\n",
       "    .dataframe tbody tr th:only-of-type {\n",
       "        vertical-align: middle;\n",
       "    }\n",
       "\n",
       "    .dataframe tbody tr th {\n",
       "        vertical-align: top;\n",
       "    }\n",
       "\n",
       "    .dataframe thead th {\n",
       "        text-align: right;\n",
       "    }\n",
       "</style>\n",
       "<table border=\"1\" class=\"dataframe\">\n",
       "  <thead>\n",
       "    <tr style=\"text-align: right;\">\n",
       "      <th></th>\n",
       "      <th>129</th>\n",
       "      <th>130</th>\n",
       "      <th>131</th>\n",
       "      <th>132</th>\n",
       "      <th>133</th>\n",
       "      <th>134</th>\n",
       "      <th>135</th>\n",
       "      <th>136</th>\n",
       "      <th>137</th>\n",
       "      <th>138</th>\n",
       "      <th>...</th>\n",
       "      <th>183</th>\n",
       "      <th>184</th>\n",
       "      <th>185</th>\n",
       "      <th>186</th>\n",
       "      <th>187</th>\n",
       "      <th>188</th>\n",
       "      <th>189</th>\n",
       "      <th>190</th>\n",
       "      <th>191</th>\n",
       "      <th>192</th>\n",
       "    </tr>\n",
       "  </thead>\n",
       "  <tbody>\n",
       "    <tr>\n",
       "      <td>DT_model</td>\n",
       "      <td>0.713797</td>\n",
       "      <td>0.693599</td>\n",
       "      <td>0.70665</td>\n",
       "      <td>0.7688</td>\n",
       "      <td>0.724363</td>\n",
       "      <td>0.721255</td>\n",
       "      <td>0.719391</td>\n",
       "      <td>0.778123</td>\n",
       "      <td>0.709758</td>\n",
       "      <td>0.695774</td>\n",
       "      <td>...</td>\n",
       "      <td>0.717837</td>\n",
       "      <td>0.778123</td>\n",
       "      <td>0.712554</td>\n",
       "      <td>0.690802</td>\n",
       "      <td>0.708204</td>\n",
       "      <td>0.7688</td>\n",
       "      <td>0.72747</td>\n",
       "      <td>0.719702</td>\n",
       "      <td>0.713487</td>\n",
       "      <td>1.0</td>\n",
       "    </tr>\n",
       "  </tbody>\n",
       "</table>\n",
       "<p>1 rows × 64 columns</p>\n",
       "</div>"
      ],
      "text/plain": [
       "               129       130      131     132       133       134       135  \\\n",
       "DT_model  0.713797  0.693599  0.70665  0.7688  0.724363  0.721255  0.719391   \n",
       "\n",
       "               136       137       138  ...       183       184       185  \\\n",
       "DT_model  0.778123  0.709758  0.695774  ...  0.717837  0.778123  0.712554   \n",
       "\n",
       "               186       187     188      189       190       191  192  \n",
       "DT_model  0.690802  0.708204  0.7688  0.72747  0.719702  0.713487  1.0  \n",
       "\n",
       "[1 rows x 64 columns]"
      ]
     },
     "execution_count": 4,
     "metadata": {},
     "output_type": "execute_result"
    }
   ],
   "source": [
    "# try to use a faster model for fitting. \n",
    "# warning: Do not run this if testing all models in sm.models\n",
    "sm.models = sm. models[['DT_model']]\n",
    "\n",
    "# fit StaticModel using for data in edges\n",
    "edges = [('LAX', 'ATL')]\n",
    "sm.fit(edges)"
   ]
  }
 ],
 "metadata": {
  "kernelspec": {
   "display_name": "Python 3",
   "language": "python",
   "name": "python3"
  },
  "language_info": {
   "codemirror_mode": {
    "name": "ipython",
    "version": 3
   },
   "file_extension": ".py",
   "mimetype": "text/x-python",
   "name": "python",
   "nbconvert_exporter": "python",
   "pygments_lexer": "ipython3",
   "version": "3.7.4"
  }
 },
 "nbformat": 4,
 "nbformat_minor": 2
}
