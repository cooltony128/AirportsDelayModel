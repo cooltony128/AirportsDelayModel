{
 "cells": [
  {
   "cell_type": "markdown",
   "metadata": {},
   "source": [
    "## 1.  Demo for GraphFlow"
   ]
  },
  {
   "cell_type": "code",
   "execution_count": null,
   "metadata": {},
   "outputs": [],
   "source": [
    "from graphflow import GraphFlow"
   ]
  },
  {
   "cell_type": "code",
   "execution_count": null,
   "metadata": {},
   "outputs": [],
   "source": [
    "#Demo 1 generate a GraphFlow object use import_GF\n",
    "gf = GraphFlow.import_GF()\n",
    "\n",
    "import pandas as pd\n",
    "pd.set_option('display.max_columns', 50)\n",
    "\n",
    "gf.describe()\n",
    "gf.draw_network_attr(with_pos = True)"
   ]
  },
  {
   "cell_type": "code",
   "execution_count": null,
   "metadata": {},
   "outputs": [],
   "source": [
    "# Demo 2 one can use sub_graph_flow to generate sub_graph_flow\n",
    "# bug 03/11/07,11/4/07,03/09/08,11/02/08 can not be between start_time and end_time\n",
    "sub_nodes = ['HNL','LAS','LAX','OGG']\n",
    "sub_gf=gf.sub_graph_flow(start_time = '2007-02-01 01:00:00',end_time = '2007-03-01 01:00:00',sub_nodes = sub_nodes )"
   ]
  },
  {
   "cell_type": "code",
   "execution_count": null,
   "metadata": {},
   "outputs": [],
   "source": [
    "sub_gf.describe()\n",
    "sub_gf.draw_network_attr(with_pos = False)"
   ]
  },
  {
   "cell_type": "code",
   "execution_count": null,
   "metadata": {},
   "outputs": [],
   "source": [
    "# Demo 3 if sub_nodes is none,edges is None,then choose all_nodes,. \n",
    "# bug 03/11/07,11/4/07,03/09/08,11/02/08 can not be between start_time and end_time\n",
    "sub_gf=gf.sub_graph_flow('2007-02-01 01:00:00','2007-03-01 01:00:00')\n",
    "sub_gf.describe()\n",
    "sub_gf.draw_network_attr(with_pos = True)"
   ]
  },
  {
   "cell_type": "code",
   "execution_count": null,
   "metadata": {
    "scrolled": true
   },
   "outputs": [],
   "source": [
    "# Demo 4 if sub_nodes is none,edges aregiven, then generate a subGraphFLow with edges given. ~ 3 min\n",
    "# bug 03/11/07,11/4/07,03/09/08,11/02/08 can not be between start_time and end_time\n",
    "sub_gf = gf.sub_graph_flow('2007-02-01 01:00:00','2007-03-01 01:00:00',\n",
    "                           edges =  (set(gf.G.out_edges('LAX'))|set(gf.G.in_edges('LAX'))))\n",
    "sub_gf.describe()\n",
    "sub_gf.draw_network_attr(with_pos = True)"
   ]
  },
  {
   "cell_type": "code",
   "execution_count": null,
   "metadata": {},
   "outputs": [],
   "source": [
    "# demo for model_evaluation\n",
    "\n",
    "from graphflow import test_index_gen,model_evaluation\n",
    "import numpy as np\n",
    "\n",
    "test_date_index,test_airport_index = test_index_gen()\n",
    "\n",
    "# sample input \n",
    "pred_data = np.random.random((len(test_date_index),len(test_airport_index)))\n",
    "\n",
    "# evluate the prediction\n",
    "model_evaluation(pred_data, test_date_index, test_airport_index)"
   ]
  },
  {
   "cell_type": "markdown",
   "metadata": {},
   "source": [
    "## 2 Demo for StaticModel"
   ]
  },
  {
   "cell_type": "code",
   "execution_count": null,
   "metadata": {},
   "outputs": [],
   "source": [
    "from graphflow import StaticModel\n",
    "from graphflow import GraphFlow"
   ]
  },
  {
   "cell_type": "code",
   "execution_count": null,
   "metadata": {},
   "outputs": [],
   "source": [
    "# generate a graphflow object as input of StaticModel\n",
    "\n",
    "gf = GraphFlow.import_GF()\n",
    "# so far edges has to be symetric otherwise will raise error\n",
    "sub_gf = gf.sub_graph_flow(edges = [('LAX','ATL'),('ATL','LAX')])"
   ]
  },
  {
   "cell_type": "code",
   "execution_count": null,
   "metadata": {},
   "outputs": [],
   "source": [
    "# initialize a StaticModel\n",
    "sm = StaticModel(sub_gf)\n",
    "sm.describe()"
   ]
  },
  {
   "cell_type": "code",
   "execution_count": null,
   "metadata": {},
   "outputs": [],
   "source": [
    "# try to use a faster model for fitting. \n",
    "# warning: Do not run this if testing all models in sm.models\n",
    "sm.models = sm. models[['DT_model']]\n",
    "\n",
    "# fit StaticModel using for data in edges\n",
    "edges = [('LAX', 'ATL')]\n",
    "sm.fit(edges)"
   ]
  }
 ],
 "metadata": {
  "kernelspec": {
   "display_name": "Python 3",
   "language": "python",
   "name": "python3"
  },
  "language_info": {
   "codemirror_mode": {
    "name": "ipython",
    "version": 3
   },
   "file_extension": ".py",
   "mimetype": "text/x-python",
   "name": "python",
   "nbconvert_exporter": "python",
   "pygments_lexer": "ipython3",
   "version": "3.7.4"
  }
 },
 "nbformat": 4,
 "nbformat_minor": 2
}
